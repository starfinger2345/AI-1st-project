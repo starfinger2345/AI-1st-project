{
 "cells": [
  {
   "cell_type": "code",
   "execution_count": 1,
   "id": "dc64dc74-7b2a-4d98-8522-7137604dd729",
   "metadata": {},
   "outputs": [],
   "source": [
    "# ---파일 경로 설정---\n",
    "font_path = \"C:/Windows/Fonts/gulim.ttc\"\n",
    "dataset_file = 'combine_4.csv'\n",
    "model_file = 'sign_language_model.joblib' # 학습된 모델을 저장할 파일명\n",
    "\n",
    "# ---영상 처리 설정---\n",
    "rec_cool_time = 1.5   # 제스처 인식 후 쿨타임 (초)\n",
    "display_duration = 1.5 # 인식된 제스처 화면 표시 시간 (초)\n",
    "history_maxlen= 5  # 제스처 판독을 위한 히스토리 길이\n",
    "\n"
   ]
  }
 ],
 "metadata": {
  "kernelspec": {
   "display_name": "Python 3 (ipykernel)",
   "language": "python",
   "name": "python3"
  },
  "language_info": {
   "codemirror_mode": {
    "name": "ipython",
    "version": 3
   },
   "file_extension": ".py",
   "mimetype": "text/x-python",
   "name": "python",
   "nbconvert_exporter": "python",
   "pygments_lexer": "ipython3",
   "version": "3.9.23"
  }
 },
 "nbformat": 4,
 "nbformat_minor": 5
}
