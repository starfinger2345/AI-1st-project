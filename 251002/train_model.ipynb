{
 "cells": [
  {
   "cell_type": "code",
   "execution_count": 2,
   "id": "e9ab604a-b657-4fb0-ba30-8d68eaa5b64f",
   "metadata": {},
   "outputs": [
    {
     "name": "stdout",
     "output_type": "stream",
     "text": [
      "===데이터셋 로드 및 전처리 시작===\n",
      "데이터 전처리 완료!\n",
      "--- 랜덤 포레스트 모델 학습 시작 ---\n",
      "\n",
      "--- 학습 완료 ---\n",
      "모델 테스트 정확도: 99.20%\n",
      "모델이 'sign_language_model.joblib' 파일로 저장되었습니다.\n"
     ]
    }
   ],
   "source": [
    "from manage_model import SignLanguageModel\n",
    "\n",
    "if __name__ == \"__main__\":\n",
    "    # 1. 모델 객체 생성\n",
    "    sl_model = SignLanguageModel()\n",
    "\n",
    "    # 2. 모델 학습\n",
    "    sl_model.train()\n",
    "\n",
    "    # 3. 학습된 모델 저장\n",
    "    sl_model.save()"
   ]
  }
 ],
 "metadata": {
  "kernelspec": {
   "display_name": "Python 3 (ipykernel)",
   "language": "python",
   "name": "python3"
  },
  "language_info": {
   "codemirror_mode": {
    "name": "ipython",
    "version": 3
   },
   "file_extension": ".py",
   "mimetype": "text/x-python",
   "name": "python",
   "nbconvert_exporter": "python",
   "pygments_lexer": "ipython3",
   "version": "3.9.23"
  }
 },
 "nbformat": 4,
 "nbformat_minor": 5
}
